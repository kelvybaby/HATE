{
 "cells": [
  {
   "cell_type": "code",
   "execution_count": 1,
   "id": "82781386-c6b0-434f-91cb-a865066c34c9",
   "metadata": {},
   "outputs": [
    {
     "name": "stdout",
     "output_type": "stream",
     "text": [
      "/Users/kelvinzhou/Downloads/my_project_env/bin/python3\n"
     ]
    }
   ],
   "source": [
    "import sys\n",
    "print(sys.executable)\n"
   ]
  },
  {
   "cell_type": "code",
   "execution_count": 2,
   "id": "3fa1b2b6-f92e-4c01-a078-6fbff960c58f",
   "metadata": {},
   "outputs": [
    {
     "name": "stdout",
     "output_type": "stream",
     "text": [
      "✅ Jupyter Notebook is working!\n",
      "Python Executable Path: /Users/kelvinzhou/Downloads/my_project_env/bin/python3\n",
      "\n",
      "✅ NumPy is working! 3x3 Random Matrix:\n",
      "[[0.84021674 0.33182249 0.52984945]\n",
      " [0.45339792 0.67563379 0.88220771]\n",
      " [0.36032195 0.48721069 0.33908355]]\n",
      "\n",
      "✅ Pandas is working! Sample DataFrame:\n",
      "      Name  Age\n",
      "0    Alice   25\n",
      "1      Bob   30\n",
      "2  Charlie   35\n"
     ]
    },
    {
     "name": "stderr",
     "output_type": "stream",
     "text": [
      "/Users/kelvinzhou/Downloads/my_project_env/lib/python3.13/site-packages/IPython/core/pylabtools.py:170: UserWarning: Glyph 9989 (\\N{WHITE HEAVY CHECK MARK}) missing from font(s) DejaVu Sans.\n",
      "  fig.canvas.print_figure(bytes_io, **kw)\n"
     ]
    },
    {
     "data": {
      "image/png": "[encoded data removed]",
      "text/plain": [
       "<Figure size 400x200 with 1 Axes>"
      ]
     },
     "metadata": {},
     "output_type": "display_data"
    }
   ],
   "source": [
    "import sys\n",
    "import numpy as np\n",
    "import pandas as pd\n",
    "import matplotlib.pyplot as plt\n",
    "\n",
    "# Check Python interpreter\n",
    "print(\"✅ Jupyter Notebook is working!\")\n",
    "print(\"Python Executable Path:\", sys.executable)\n",
    "\n",
    "# NumPy test\n",
    "array = np.random.rand(3, 3)\n",
    "print(\"\\n✅ NumPy is working! 3x3 Random Matrix:\")\n",
    "print(array)\n",
    "\n",
    "# Pandas test\n",
    "data = {\"Name\": [\"Alice\", \"Bob\", \"Charlie\"], \"Age\": [25, 30, 35]}\n",
    "df = pd.DataFrame(data)\n",
    "print(\"\\n✅ Pandas is working! Sample DataFrame:\")\n",
    "print(df)\n",
    "\n",
    "# Matplotlib test\n",
    "plt.figure(figsize=(4, 2))\n",
    "plt.plot([1, 2, 3, 4], [10, 20, 25, 30], marker='o', linestyle='--', color='r')\n",
    "plt.title(\"✅ Matplotlib Test Plot in Jupyter\")\n",
    "plt.xlabel(\"X Axis\")\n",
    "plt.ylabel(\"Y Axis\")\n",
    "plt.grid(True)\n",
    "plt.show()\n"
   ]
  },
  {
   "cell_type": "code",
   "execution_count": null,
   "id": "9ad258b8-b206-415e-8970-4d9dc57d331b",
   "metadata": {},
   "outputs": [],
   "source": []
  },
  {
   "cell_type": "code",
   "execution_count": null,
   "id": "39c76b30-8d0d-466b-b11a-2c2be0ca656a",
   "metadata": {},
   "outputs": [],
   "source": []
  }
 ],
 "metadata": {
  "kernelspec": {
   "display_name": "Python (my_project_env)",
   "language": "python",
   "name": "my_project_env"
  },
  "language_info": {
   "codemirror_mode": {
    "name": "ipython",
    "version": 3
   },
   "file_extension": ".py",
   "mimetype": "text/x-python",
   "name": "python",
   "nbconvert_exporter": "python",
   "pygments_lexer": "ipython3",
   "version": "3.13.2"
  }
 },
 "nbformat": 4,
 "nbformat_minor": 5
}
